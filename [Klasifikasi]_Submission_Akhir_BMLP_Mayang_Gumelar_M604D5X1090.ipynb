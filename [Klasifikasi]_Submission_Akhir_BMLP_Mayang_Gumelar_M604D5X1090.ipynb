{
 "nbformat": 4,
 "nbformat_minor": 0,
 "metadata": {
  "colab": {
   "provenance": []
  },
  "kernelspec": {
   "name": "python3",
   "display_name": "Python 3"
  },
  "language_info": {
   "name": "python"
  }
 },
 "cells": [
  {
   "cell_type": "markdown",
   "source": [
    "# **Penting**\n",
    "- Jangan mengubah atau menambahkan cell text yang sudah disediakan, Anda hanya perlu mengerjakan cell code yang sudah disediakan.\n",
    "- Pastikan seluruh kriteria memiliki output yang sesuai, karena jika tidak ada output dianggap tidak selesai.\n",
    "- Misal, Anda menggunakan df = df.dropna() silakan gunakan df.isnull().sum() sebagai tanda sudah berhasil. Silakan sesuaikan seluruh output dengan perintah yang sudah disediakan.\n",
    "- Pastikan Anda melakukan Run All sebelum mengirimkan submission untuk memastikan seluruh cell berjalan dengan baik.\n",
    "- Pastikan Anda menggunakan variabel df dari awal sampai akhir dan tidak diperbolehkan mengganti nama variabel tersebut.\n",
    "- Hapus simbol pagar (#) pada kode yang bertipe komentar jika Anda menerapkan kriteria tambahan\n",
    "- Biarkan simbol pagar (#) jika Anda tidak menerapkan kriteria tambahan\n",
    "- Pastikan Anda mengerjakan sesuai section yang sudah diberikan tanpa mengubah judul atau header yang disediakan."
   ],
   "metadata": {
    "id": "0tvAKGat01Sd"
   }
  },
  {
   "cell_type": "markdown",
   "source": [
    "# **1. Import Library**\n",
    "Pada tahap ini, Anda perlu mengimpor beberapa pustaka (library) Python yang dibutuhkan untuk analisis data dan pembangunan model machine learning."
   ],
   "metadata": {
    "id": "fKADPWcFKlj3"
   }
  },
  {
   "cell_type": "code",
   "source": [
    "#Type your code here\n",
    "import pandas as pd\n",
    "from sklearn.model_selection import train_test_split\n",
    "from sklearn.preprocessing import LabelEncoder\n",
    "from sklearn.tree import DecisionTreeClassifier\n",
    "from sklearn.neighbors import KNeighborsClassifier\n",
    "from sklearn.ensemble import RandomForestClassifier\n",
    "from sklearn.naive_bayes import GaussianNB\n",
    "from sklearn.metrics import accuracy_score, precision_score, recall_score, f1_score\n",
    "from skopt import BayesSearchCV"
   ],
   "metadata": {
    "id": "BlmvjLY9M4Yj",
    "ExecuteTime": {
     "end_time": "2025-09-15T08:31:29.665347Z",
     "start_time": "2025-09-15T08:30:49.494935Z"
    }
   },
   "outputs": [],
   "execution_count": 1
  },
  {
   "cell_type": "markdown",
   "source": [
    "# **2. Memuat Dataset dari Hasil Clustering**\n",
    "Memuat dataset hasil clustering dari file CSV ke dalam variabel DataFrame."
   ],
   "metadata": {
    "id": "f3YIEnAFKrKL"
   }
  },
  {
   "cell_type": "code",
   "source": [
    "# Gunakan dataset hasil clustering yang memiliki fitur Target\n",
    "# Silakan gunakan dataset data_clustering jika tidak menerapkan Interpretasi Hasil Clustering [Advanced]\n",
    "# Silakan gunakan dataset data_clustering_inverse jika menerapkan Interpretasi Hasil Clustering [Advanced]\n",
    "# Lengkapi kode berikut\n",
    "df = pd.read_csv(\"data_clustering_inverse.csv\")"
   ],
   "metadata": {
    "id": "GHCGNTyrM5fS",
    "ExecuteTime": {
     "end_time": "2025-09-15T08:31:35.423464Z",
     "start_time": "2025-09-15T08:31:35.370265Z"
    }
   },
   "outputs": [],
   "execution_count": 2
  },
  {
   "cell_type": "code",
   "source": [
    "# Tampilkan 5 baris pertama dengan function head.\n",
    "df.head(5)"
   ],
   "metadata": {
    "id": "bCsep0NZ0LUf",
    "ExecuteTime": {
     "end_time": "2025-09-15T08:31:37.076224Z",
     "start_time": "2025-09-15T08:31:37.006069Z"
    }
   },
   "outputs": [
    {
     "data": {
      "text/plain": [
       "   TransactionAmount      TransactionDate TransactionType   Location Channel  \\\n",
       "0              14.09  2023-04-11 16:29:14           Debit  San Diego     ATM   \n",
       "1             376.24  2023-06-27 16:44:19           Debit    Houston     ATM   \n",
       "2             126.29  2023-07-10 18:16:08           Debit       Mesa  Online   \n",
       "3             184.50  2023-05-05 16:32:11           Debit    Raleigh  Online   \n",
       "4              13.45  2023-10-16 17:51:24          Credit    Atlanta  Online   \n",
       "\n",
       "   CustomerAge CustomerOccupation  TransactionDuration  LoginAttempts  \\\n",
       "0         70.0             Doctor                 81.0            1.0   \n",
       "1         68.0             Doctor                141.0            1.0   \n",
       "2         19.0            Student                 56.0            1.0   \n",
       "3         26.0            Student                 25.0            1.0   \n",
       "4         45.0            Student                198.0            1.0   \n",
       "\n",
       "   AccountBalance PreviousTransactionDate  TransactionAmountCategory  Target  \n",
       "0         5112.21     2024-11-04 08:08:08                          0       1  \n",
       "1        13758.91     2024-11-04 08:09:35                          1       2  \n",
       "2         1122.35     2024-11-04 08:07:04                          0       1  \n",
       "3         8569.06     2024-11-04 08:09:06                          0       1  \n",
       "4         7429.40     2024-11-04 08:06:39                          0       2  "
      ],
      "text/html": [
       "<div>\n",
       "<style scoped>\n",
       "    .dataframe tbody tr th:only-of-type {\n",
       "        vertical-align: middle;\n",
       "    }\n",
       "\n",
       "    .dataframe tbody tr th {\n",
       "        vertical-align: top;\n",
       "    }\n",
       "\n",
       "    .dataframe thead th {\n",
       "        text-align: right;\n",
       "    }\n",
       "</style>\n",
       "<table border=\"1\" class=\"dataframe\">\n",
       "  <thead>\n",
       "    <tr style=\"text-align: right;\">\n",
       "      <th></th>\n",
       "      <th>TransactionAmount</th>\n",
       "      <th>TransactionDate</th>\n",
       "      <th>TransactionType</th>\n",
       "      <th>Location</th>\n",
       "      <th>Channel</th>\n",
       "      <th>CustomerAge</th>\n",
       "      <th>CustomerOccupation</th>\n",
       "      <th>TransactionDuration</th>\n",
       "      <th>LoginAttempts</th>\n",
       "      <th>AccountBalance</th>\n",
       "      <th>PreviousTransactionDate</th>\n",
       "      <th>TransactionAmountCategory</th>\n",
       "      <th>Target</th>\n",
       "    </tr>\n",
       "  </thead>\n",
       "  <tbody>\n",
       "    <tr>\n",
       "      <th>0</th>\n",
       "      <td>14.09</td>\n",
       "      <td>2023-04-11 16:29:14</td>\n",
       "      <td>Debit</td>\n",
       "      <td>San Diego</td>\n",
       "      <td>ATM</td>\n",
       "      <td>70.0</td>\n",
       "      <td>Doctor</td>\n",
       "      <td>81.0</td>\n",
       "      <td>1.0</td>\n",
       "      <td>5112.21</td>\n",
       "      <td>2024-11-04 08:08:08</td>\n",
       "      <td>0</td>\n",
       "      <td>1</td>\n",
       "    </tr>\n",
       "    <tr>\n",
       "      <th>1</th>\n",
       "      <td>376.24</td>\n",
       "      <td>2023-06-27 16:44:19</td>\n",
       "      <td>Debit</td>\n",
       "      <td>Houston</td>\n",
       "      <td>ATM</td>\n",
       "      <td>68.0</td>\n",
       "      <td>Doctor</td>\n",
       "      <td>141.0</td>\n",
       "      <td>1.0</td>\n",
       "      <td>13758.91</td>\n",
       "      <td>2024-11-04 08:09:35</td>\n",
       "      <td>1</td>\n",
       "      <td>2</td>\n",
       "    </tr>\n",
       "    <tr>\n",
       "      <th>2</th>\n",
       "      <td>126.29</td>\n",
       "      <td>2023-07-10 18:16:08</td>\n",
       "      <td>Debit</td>\n",
       "      <td>Mesa</td>\n",
       "      <td>Online</td>\n",
       "      <td>19.0</td>\n",
       "      <td>Student</td>\n",
       "      <td>56.0</td>\n",
       "      <td>1.0</td>\n",
       "      <td>1122.35</td>\n",
       "      <td>2024-11-04 08:07:04</td>\n",
       "      <td>0</td>\n",
       "      <td>1</td>\n",
       "    </tr>\n",
       "    <tr>\n",
       "      <th>3</th>\n",
       "      <td>184.50</td>\n",
       "      <td>2023-05-05 16:32:11</td>\n",
       "      <td>Debit</td>\n",
       "      <td>Raleigh</td>\n",
       "      <td>Online</td>\n",
       "      <td>26.0</td>\n",
       "      <td>Student</td>\n",
       "      <td>25.0</td>\n",
       "      <td>1.0</td>\n",
       "      <td>8569.06</td>\n",
       "      <td>2024-11-04 08:09:06</td>\n",
       "      <td>0</td>\n",
       "      <td>1</td>\n",
       "    </tr>\n",
       "    <tr>\n",
       "      <th>4</th>\n",
       "      <td>13.45</td>\n",
       "      <td>2023-10-16 17:51:24</td>\n",
       "      <td>Credit</td>\n",
       "      <td>Atlanta</td>\n",
       "      <td>Online</td>\n",
       "      <td>45.0</td>\n",
       "      <td>Student</td>\n",
       "      <td>198.0</td>\n",
       "      <td>1.0</td>\n",
       "      <td>7429.40</td>\n",
       "      <td>2024-11-04 08:06:39</td>\n",
       "      <td>0</td>\n",
       "      <td>2</td>\n",
       "    </tr>\n",
       "  </tbody>\n",
       "</table>\n",
       "</div>"
      ]
     },
     "execution_count": 3,
     "metadata": {},
     "output_type": "execute_result"
    }
   ],
   "execution_count": 3
  },
  {
   "metadata": {
    "ExecuteTime": {
     "end_time": "2025-09-15T08:31:39.187971Z",
     "start_time": "2025-09-15T08:31:39.157376Z"
    }
   },
   "cell_type": "code",
   "source": [
    "# Cek Data\n",
    "df.info()"
   ],
   "outputs": [
    {
     "name": "stdout",
     "output_type": "stream",
     "text": [
      "<class 'pandas.core.frame.DataFrame'>\n",
      "RangeIndex: 2514 entries, 0 to 2513\n",
      "Data columns (total 13 columns):\n",
      " #   Column                     Non-Null Count  Dtype  \n",
      "---  ------                     --------------  -----  \n",
      " 0   TransactionAmount          2514 non-null   float64\n",
      " 1   TransactionDate            2514 non-null   object \n",
      " 2   TransactionType            2484 non-null   object \n",
      " 3   Location                   2484 non-null   object \n",
      " 4   Channel                    2487 non-null   object \n",
      " 5   CustomerAge                2514 non-null   float64\n",
      " 6   CustomerOccupation         2491 non-null   object \n",
      " 7   TransactionDuration        2514 non-null   float64\n",
      " 8   LoginAttempts              2514 non-null   float64\n",
      " 9   AccountBalance             2514 non-null   float64\n",
      " 10  PreviousTransactionDate    2514 non-null   object \n",
      " 11  TransactionAmountCategory  2514 non-null   int64  \n",
      " 12  Target                     2514 non-null   int64  \n",
      "dtypes: float64(5), int64(2), object(6)\n",
      "memory usage: 255.5+ KB\n"
     ]
    }
   ],
   "execution_count": 4
  },
  {
   "metadata": {
    "ExecuteTime": {
     "end_time": "2025-09-15T08:31:41.330013Z",
     "start_time": "2025-09-15T08:31:41.306753Z"
    }
   },
   "cell_type": "code",
   "source": [
    "# Cek Missing Values\n",
    "df.isnull().sum()"
   ],
   "outputs": [
    {
     "data": {
      "text/plain": [
       "TransactionAmount             0\n",
       "TransactionDate               0\n",
       "TransactionType              30\n",
       "Location                     30\n",
       "Channel                      27\n",
       "CustomerAge                   0\n",
       "CustomerOccupation           23\n",
       "TransactionDuration           0\n",
       "LoginAttempts                 0\n",
       "AccountBalance                0\n",
       "PreviousTransactionDate       0\n",
       "TransactionAmountCategory     0\n",
       "Target                        0\n",
       "dtype: int64"
      ]
     },
     "execution_count": 5,
     "metadata": {},
     "output_type": "execute_result"
    }
   ],
   "execution_count": 5
  },
  {
   "metadata": {
    "ExecuteTime": {
     "end_time": "2025-09-15T08:31:44.301932Z",
     "start_time": "2025-09-15T08:31:44.265347Z"
    }
   },
   "cell_type": "code",
   "source": [
    "# Tangani Missing Values dengan Mode untuk feature Kategorik\n",
    "\n",
    "modus_balance = df.select_dtypes(include='object').mode().iloc[0]\n",
    "df.fillna(modus_balance, inplace=True)\n",
    "\n",
    "# Lihat hasil akhir\n",
    "missing_values = df.isnull().sum()\n",
    "print(f\"Missing Values now:\\n {missing_values}\")"
   ],
   "outputs": [
    {
     "name": "stdout",
     "output_type": "stream",
     "text": [
      "Missing Values now:\n",
      " TransactionAmount            0\n",
      "TransactionDate              0\n",
      "TransactionType              0\n",
      "Location                     0\n",
      "Channel                      0\n",
      "CustomerAge                  0\n",
      "CustomerOccupation           0\n",
      "TransactionDuration          0\n",
      "LoginAttempts                0\n",
      "AccountBalance               0\n",
      "PreviousTransactionDate      0\n",
      "TransactionAmountCategory    0\n",
      "Target                       0\n",
      "dtype: int64\n"
     ]
    }
   ],
   "execution_count": 6
  },
  {
   "metadata": {
    "ExecuteTime": {
     "end_time": "2025-09-15T08:31:48.050024Z",
     "start_time": "2025-09-15T08:31:48.039077Z"
    }
   },
   "cell_type": "code",
   "source": [
    "# Drop Feature tak digunakan (TransactionDate dan PreviousTransactionDate)\n",
    "df = df.drop(columns=['TransactionDate', 'PreviousTransactionDate'])"
   ],
   "outputs": [],
   "execution_count": 7
  },
  {
   "metadata": {
    "ExecuteTime": {
     "end_time": "2025-09-15T08:31:49.132756Z",
     "start_time": "2025-09-15T08:31:49.112887Z"
    }
   },
   "cell_type": "code",
   "source": "df.head()",
   "outputs": [
    {
     "data": {
      "text/plain": [
       "   TransactionAmount TransactionType   Location Channel  CustomerAge  \\\n",
       "0              14.09           Debit  San Diego     ATM         70.0   \n",
       "1             376.24           Debit    Houston     ATM         68.0   \n",
       "2             126.29           Debit       Mesa  Online         19.0   \n",
       "3             184.50           Debit    Raleigh  Online         26.0   \n",
       "4              13.45          Credit    Atlanta  Online         45.0   \n",
       "\n",
       "  CustomerOccupation  TransactionDuration  LoginAttempts  AccountBalance  \\\n",
       "0             Doctor                 81.0            1.0         5112.21   \n",
       "1             Doctor                141.0            1.0        13758.91   \n",
       "2            Student                 56.0            1.0         1122.35   \n",
       "3            Student                 25.0            1.0         8569.06   \n",
       "4            Student                198.0            1.0         7429.40   \n",
       "\n",
       "   TransactionAmountCategory  Target  \n",
       "0                          0       1  \n",
       "1                          1       2  \n",
       "2                          0       1  \n",
       "3                          0       1  \n",
       "4                          0       2  "
      ],
      "text/html": [
       "<div>\n",
       "<style scoped>\n",
       "    .dataframe tbody tr th:only-of-type {\n",
       "        vertical-align: middle;\n",
       "    }\n",
       "\n",
       "    .dataframe tbody tr th {\n",
       "        vertical-align: top;\n",
       "    }\n",
       "\n",
       "    .dataframe thead th {\n",
       "        text-align: right;\n",
       "    }\n",
       "</style>\n",
       "<table border=\"1\" class=\"dataframe\">\n",
       "  <thead>\n",
       "    <tr style=\"text-align: right;\">\n",
       "      <th></th>\n",
       "      <th>TransactionAmount</th>\n",
       "      <th>TransactionType</th>\n",
       "      <th>Location</th>\n",
       "      <th>Channel</th>\n",
       "      <th>CustomerAge</th>\n",
       "      <th>CustomerOccupation</th>\n",
       "      <th>TransactionDuration</th>\n",
       "      <th>LoginAttempts</th>\n",
       "      <th>AccountBalance</th>\n",
       "      <th>TransactionAmountCategory</th>\n",
       "      <th>Target</th>\n",
       "    </tr>\n",
       "  </thead>\n",
       "  <tbody>\n",
       "    <tr>\n",
       "      <th>0</th>\n",
       "      <td>14.09</td>\n",
       "      <td>Debit</td>\n",
       "      <td>San Diego</td>\n",
       "      <td>ATM</td>\n",
       "      <td>70.0</td>\n",
       "      <td>Doctor</td>\n",
       "      <td>81.0</td>\n",
       "      <td>1.0</td>\n",
       "      <td>5112.21</td>\n",
       "      <td>0</td>\n",
       "      <td>1</td>\n",
       "    </tr>\n",
       "    <tr>\n",
       "      <th>1</th>\n",
       "      <td>376.24</td>\n",
       "      <td>Debit</td>\n",
       "      <td>Houston</td>\n",
       "      <td>ATM</td>\n",
       "      <td>68.0</td>\n",
       "      <td>Doctor</td>\n",
       "      <td>141.0</td>\n",
       "      <td>1.0</td>\n",
       "      <td>13758.91</td>\n",
       "      <td>1</td>\n",
       "      <td>2</td>\n",
       "    </tr>\n",
       "    <tr>\n",
       "      <th>2</th>\n",
       "      <td>126.29</td>\n",
       "      <td>Debit</td>\n",
       "      <td>Mesa</td>\n",
       "      <td>Online</td>\n",
       "      <td>19.0</td>\n",
       "      <td>Student</td>\n",
       "      <td>56.0</td>\n",
       "      <td>1.0</td>\n",
       "      <td>1122.35</td>\n",
       "      <td>0</td>\n",
       "      <td>1</td>\n",
       "    </tr>\n",
       "    <tr>\n",
       "      <th>3</th>\n",
       "      <td>184.50</td>\n",
       "      <td>Debit</td>\n",
       "      <td>Raleigh</td>\n",
       "      <td>Online</td>\n",
       "      <td>26.0</td>\n",
       "      <td>Student</td>\n",
       "      <td>25.0</td>\n",
       "      <td>1.0</td>\n",
       "      <td>8569.06</td>\n",
       "      <td>0</td>\n",
       "      <td>1</td>\n",
       "    </tr>\n",
       "    <tr>\n",
       "      <th>4</th>\n",
       "      <td>13.45</td>\n",
       "      <td>Credit</td>\n",
       "      <td>Atlanta</td>\n",
       "      <td>Online</td>\n",
       "      <td>45.0</td>\n",
       "      <td>Student</td>\n",
       "      <td>198.0</td>\n",
       "      <td>1.0</td>\n",
       "      <td>7429.40</td>\n",
       "      <td>0</td>\n",
       "      <td>2</td>\n",
       "    </tr>\n",
       "  </tbody>\n",
       "</table>\n",
       "</div>"
      ]
     },
     "execution_count": 8,
     "metadata": {},
     "output_type": "execute_result"
    }
   ],
   "execution_count": 8
  },
  {
   "metadata": {
    "ExecuteTime": {
     "end_time": "2025-09-15T08:31:50.995141Z",
     "start_time": "2025-09-15T08:31:50.966709Z"
    }
   },
   "cell_type": "code",
   "source": [
    "# Encoding Feature Kategorik\n",
    "categoric_cols = ['TransactionType', 'Location', 'Channel', 'CustomerOccupation']\n",
    "\n",
    "label_encoder_dict = {}\n",
    "\n",
    "# Encoding\n",
    "for col in categoric_cols:\n",
    "    label_encoder = LabelEncoder()\n",
    "    df[col] = label_encoder.fit_transform(df[col])\n",
    "\n",
    "    #simpan objek encoder terlatih ke kamus agar dapat diinverse\n",
    "    label_encoder_dict[col] = label_encoder\n",
    "\n",
    "df.head()"
   ],
   "outputs": [
    {
     "data": {
      "text/plain": [
       "   TransactionAmount  TransactionType  Location  Channel  CustomerAge  \\\n",
       "0              14.09                1        36        0         70.0   \n",
       "1             376.24                1        15        0         68.0   \n",
       "2             126.29                1        23        2         19.0   \n",
       "3             184.50                1        33        2         26.0   \n",
       "4              13.45                0         1        2         45.0   \n",
       "\n",
       "   CustomerOccupation  TransactionDuration  LoginAttempts  AccountBalance  \\\n",
       "0                   0                 81.0            1.0         5112.21   \n",
       "1                   0                141.0            1.0        13758.91   \n",
       "2                   3                 56.0            1.0         1122.35   \n",
       "3                   3                 25.0            1.0         8569.06   \n",
       "4                   3                198.0            1.0         7429.40   \n",
       "\n",
       "   TransactionAmountCategory  Target  \n",
       "0                          0       1  \n",
       "1                          1       2  \n",
       "2                          0       1  \n",
       "3                          0       1  \n",
       "4                          0       2  "
      ],
      "text/html": [
       "<div>\n",
       "<style scoped>\n",
       "    .dataframe tbody tr th:only-of-type {\n",
       "        vertical-align: middle;\n",
       "    }\n",
       "\n",
       "    .dataframe tbody tr th {\n",
       "        vertical-align: top;\n",
       "    }\n",
       "\n",
       "    .dataframe thead th {\n",
       "        text-align: right;\n",
       "    }\n",
       "</style>\n",
       "<table border=\"1\" class=\"dataframe\">\n",
       "  <thead>\n",
       "    <tr style=\"text-align: right;\">\n",
       "      <th></th>\n",
       "      <th>TransactionAmount</th>\n",
       "      <th>TransactionType</th>\n",
       "      <th>Location</th>\n",
       "      <th>Channel</th>\n",
       "      <th>CustomerAge</th>\n",
       "      <th>CustomerOccupation</th>\n",
       "      <th>TransactionDuration</th>\n",
       "      <th>LoginAttempts</th>\n",
       "      <th>AccountBalance</th>\n",
       "      <th>TransactionAmountCategory</th>\n",
       "      <th>Target</th>\n",
       "    </tr>\n",
       "  </thead>\n",
       "  <tbody>\n",
       "    <tr>\n",
       "      <th>0</th>\n",
       "      <td>14.09</td>\n",
       "      <td>1</td>\n",
       "      <td>36</td>\n",
       "      <td>0</td>\n",
       "      <td>70.0</td>\n",
       "      <td>0</td>\n",
       "      <td>81.0</td>\n",
       "      <td>1.0</td>\n",
       "      <td>5112.21</td>\n",
       "      <td>0</td>\n",
       "      <td>1</td>\n",
       "    </tr>\n",
       "    <tr>\n",
       "      <th>1</th>\n",
       "      <td>376.24</td>\n",
       "      <td>1</td>\n",
       "      <td>15</td>\n",
       "      <td>0</td>\n",
       "      <td>68.0</td>\n",
       "      <td>0</td>\n",
       "      <td>141.0</td>\n",
       "      <td>1.0</td>\n",
       "      <td>13758.91</td>\n",
       "      <td>1</td>\n",
       "      <td>2</td>\n",
       "    </tr>\n",
       "    <tr>\n",
       "      <th>2</th>\n",
       "      <td>126.29</td>\n",
       "      <td>1</td>\n",
       "      <td>23</td>\n",
       "      <td>2</td>\n",
       "      <td>19.0</td>\n",
       "      <td>3</td>\n",
       "      <td>56.0</td>\n",
       "      <td>1.0</td>\n",
       "      <td>1122.35</td>\n",
       "      <td>0</td>\n",
       "      <td>1</td>\n",
       "    </tr>\n",
       "    <tr>\n",
       "      <th>3</th>\n",
       "      <td>184.50</td>\n",
       "      <td>1</td>\n",
       "      <td>33</td>\n",
       "      <td>2</td>\n",
       "      <td>26.0</td>\n",
       "      <td>3</td>\n",
       "      <td>25.0</td>\n",
       "      <td>1.0</td>\n",
       "      <td>8569.06</td>\n",
       "      <td>0</td>\n",
       "      <td>1</td>\n",
       "    </tr>\n",
       "    <tr>\n",
       "      <th>4</th>\n",
       "      <td>13.45</td>\n",
       "      <td>0</td>\n",
       "      <td>1</td>\n",
       "      <td>2</td>\n",
       "      <td>45.0</td>\n",
       "      <td>3</td>\n",
       "      <td>198.0</td>\n",
       "      <td>1.0</td>\n",
       "      <td>7429.40</td>\n",
       "      <td>0</td>\n",
       "      <td>2</td>\n",
       "    </tr>\n",
       "  </tbody>\n",
       "</table>\n",
       "</div>"
      ]
     },
     "execution_count": 9,
     "metadata": {},
     "output_type": "execute_result"
    }
   ],
   "execution_count": 9
  },
  {
   "cell_type": "markdown",
   "source": [
    "# **3. Data Splitting**\n",
    "Tahap Data Splitting bertujuan untuk memisahkan dataset menjadi dua bagian: data latih (training set) dan data uji (test set)."
   ],
   "metadata": {
    "id": "KkPem5eWL2UP"
   }
  },
  {
   "cell_type": "code",
   "source": [
    "# Menggunakan train_test_split() untuk melakukan pembagian dataset.\n",
    "X = df.drop(columns=['Target'])\n",
    "y = df['Target']\n",
    "\n",
    "X_train, X_test, y_train, y_test = train_test_split(X, y, test_size=0.2, random_state=42)"
   ],
   "metadata": {
    "id": "OubAW-7ONKVj",
    "ExecuteTime": {
     "end_time": "2025-09-15T08:31:55.529433Z",
     "start_time": "2025-09-15T08:31:55.497428Z"
    }
   },
   "outputs": [],
   "execution_count": 10
  },
  {
   "cell_type": "markdown",
   "source": [
    "# **4. Membangun Model Klasifikasi**\n",
    "Setelah memilih algoritma klasifikasi yang sesuai, langkah selanjutnya adalah melatih model menggunakan data latih.\n",
    "\n",
    "Berikut adalah rekomendasi tahapannya.\n",
    "1. Menggunakan algoritma klasifikasi yaitu Decision Tree.\n",
    "2. Latih model menggunakan data yang sudah dipisah."
   ],
   "metadata": {
    "id": "IVPbB03CMhTT"
   }
  },
  {
   "cell_type": "code",
   "source": [
    "# Buatlah model klasifikasi menggunakan Decision Tree\n",
    "dt_model = DecisionTreeClassifier().fit(X_train, y_train)"
   ],
   "metadata": {
    "id": "4JYxBe87NLDk",
    "ExecuteTime": {
     "end_time": "2025-09-15T08:32:00.010321Z",
     "start_time": "2025-09-15T08:31:59.985403Z"
    }
   },
   "outputs": [],
   "execution_count": 11
  },
  {
   "metadata": {
    "ExecuteTime": {
     "end_time": "2025-09-15T08:32:02.344725Z",
     "start_time": "2025-09-15T08:32:02.288615Z"
    }
   },
   "cell_type": "code",
   "source": [
    "# Model Evaluation\n",
    "def evaluate_model(model, X_test, y_test):\n",
    "    y_pred = model.predict(X_test)\n",
    "\n",
    "    accuracy = accuracy_score(y_test, y_pred)\n",
    "    precision = precision_score(y_test, y_pred, average='weighted')\n",
    "    recall = recall_score(y_test, y_pred, average='weighted')\n",
    "    f1 = f1_score(y_test, y_pred, average='weighted')\n",
    "\n",
    "    # Print hasil\n",
    "    print(f\"========= Evaluasi Model {model} ==========\")\n",
    "    print(f\"Accuracy: {accuracy:.4f}\")\n",
    "    print(f\"Precision: {precision:.4f}\")\n",
    "    print(f\"Recall: {recall:.4f}\")\n",
    "    print(f\"F1_Score: {f1:4f}\")\n",
    "    print(\"==================================================\\n\")\n",
    "\n",
    "evaluate_model(dt_model, X_test, y_test)"
   ],
   "outputs": [
    {
     "name": "stdout",
     "output_type": "stream",
     "text": [
      "========= Evaluasi Model DecisionTreeClassifier() ==========\n",
      "Accuracy: 0.9821\n",
      "Precision: 0.9826\n",
      "Recall: 0.9821\n",
      "F1_Score: 0.982151\n",
      "==================================================\n",
      "\n"
     ]
    }
   ],
   "execution_count": 12
  },
  {
   "metadata": {},
   "cell_type": "markdown",
   "source": "Evaluasi model menunjukkan hasil yang sangat bagus (mendekati 1)."
  },
  {
   "cell_type": "code",
   "source": [
    "# Menyimpan Model\n",
    "import joblib\n",
    "joblib.dump(dt_model, 'decision_tree_model.h5')"
   ],
   "metadata": {
    "id": "P_AakAxghYv-",
    "ExecuteTime": {
     "end_time": "2025-09-15T08:32:06.255587Z",
     "start_time": "2025-09-15T08:32:06.227570Z"
    }
   },
   "outputs": [
    {
     "data": {
      "text/plain": [
       "['decision_tree_model.h5']"
      ]
     },
     "execution_count": 13,
     "metadata": {},
     "output_type": "execute_result"
    }
   ],
   "execution_count": 13
  },
  {
   "cell_type": "markdown",
   "source": [
    "# **5. Memenuhi Kriteria Skilled dan Advanced dalam Membangun Model Klasifikasi**\n",
    "\n"
   ],
   "metadata": {
    "id": "epO4HhrzBXMg"
   }
  },
  {
   "cell_type": "markdown",
   "source": [
    "**Biarkan kosong jika tidak menerapkan kriteria skilled atau advanced**"
   ],
   "metadata": {
    "id": "DNOEZk24uiXu"
   }
  },
  {
   "cell_type": "code",
   "source": [
    "# Melatih model menggunakan algoritma klasifikasi scikit-learn selain Decision Tree.\n",
    "rf = RandomForestClassifier().fit(X_train, y_train)\n",
    "nb = GaussianNB().fit(X_train, y_train)\n",
    "knn = KNeighborsClassifier().fit(X_train, y_train)"
   ],
   "metadata": {
    "id": "kB_8LIWMATl6",
    "ExecuteTime": {
     "end_time": "2025-09-15T08:32:26.354831Z",
     "start_time": "2025-09-15T08:32:25.476336Z"
    }
   },
   "outputs": [],
   "execution_count": 14
  },
  {
   "cell_type": "code",
   "source": [
    "# Menampilkan hasil evaluasi akurasi, presisi, recall, dan F1-Score pada seluruh algoritma yang sudah dibuat.\n",
    "evaluate_model(rf, X_test, y_test)\n",
    "evaluate_model(nb, X_test, y_test)\n",
    "evaluate_model(knn, X_test, y_test)"
   ],
   "metadata": {
    "id": "bRlKm5BVAT91",
    "ExecuteTime": {
     "end_time": "2025-09-15T08:32:28.687594Z",
     "start_time": "2025-09-15T08:32:28.513487Z"
    }
   },
   "outputs": [
    {
     "name": "stdout",
     "output_type": "stream",
     "text": [
      "========= Evaluasi Model RandomForestClassifier() ==========\n",
      "Accuracy: 0.9801\n",
      "Precision: 0.9811\n",
      "Recall: 0.9801\n",
      "F1_Score: 0.980218\n",
      "==================================================\n",
      "\n",
      "========= Evaluasi Model GaussianNB() ==========\n",
      "Accuracy: 0.9225\n",
      "Precision: 0.9359\n",
      "Recall: 0.9225\n",
      "F1_Score: 0.924533\n",
      "==================================================\n",
      "\n",
      "========= Evaluasi Model KNeighborsClassifier() ==========\n",
      "Accuracy: 0.8330\n",
      "Precision: 0.8330\n",
      "Recall: 0.8330\n",
      "F1_Score: 0.830076\n",
      "==================================================\n",
      "\n"
     ]
    }
   ],
   "execution_count": 15
  },
  {
   "metadata": {},
   "cell_type": "markdown",
   "source": [
    "**Summary :**\n",
    "Dilihat dari hasil evaluasi, ternyata Decission Tree menghasilkan model dengan metrik evaluasi tertinggi. <br>\n",
    "1. Decision Tree\n",
    "2. Random Forest\n",
    "3. Naive Bayes\n",
    "4. KNN"
   ]
  },
  {
   "cell_type": "code",
   "source": [
    "# Menyimpan Model Selain Decision Tree\n",
    "# Model ini bisa lebih dari satu\n",
    "import joblib\n",
    "joblib.dump(rf, 'explore_RandomForest_classification.h5')\n",
    "joblib.dump(nb, 'explore_NaiveBayes_classification.h5')\n",
    "joblib.dump(knn, 'explore_KNN_classification.h5')"
   ],
   "metadata": {
    "id": "dUPItkbXBNkO",
    "ExecuteTime": {
     "end_time": "2025-09-15T08:32:32.210172Z",
     "start_time": "2025-09-15T08:32:32.120563Z"
    }
   },
   "outputs": [
    {
     "data": {
      "text/plain": [
       "['explore_KNN_classification.h5']"
      ]
     },
     "execution_count": 16,
     "metadata": {},
     "output_type": "execute_result"
    }
   ],
   "execution_count": 16
  },
  {
   "cell_type": "markdown",
   "source": [
    "Hyperparameter Tuning Model\n",
    "\n",
    "Pilih salah satu algoritma yang ingin Anda tuning"
   ],
   "metadata": {
    "id": "u23H2guj-h9h"
   }
  },
  {
   "cell_type": "code",
   "source": [
    "# Lakukan Hyperparameter Tuning dan Latih ulang.\n",
    "# Lakukan dalam satu cell ini saja.\n",
    "\n",
    "# HyperparameterTuning dengan Bayesian Optimization\n",
    "#Definisi ruang pencarian\n",
    "param_space = {\n",
    "    'criterion': ['gini', 'entropy'],\n",
    "    'max_depth': (1, 10),\n",
    "    'min_samples_split': (2, 20),\n",
    "    'min_samples_leaf': (1, 20),\n",
    "    'max_features': ['sqrt', 'log2', None],\n",
    "}\n",
    "\n",
    "# Inisialisasi BayesSearchCV\n",
    "bayes_search = BayesSearchCV(estimator=dt_model, search_spaces=param_space, n_iter=32, cv=3, n_jobs=-1, verbose=2, random_state=42)\n",
    "bayes_search.fit(X_train, y_train)\n",
    "\n",
    "print(f\"Best parameters (Bayesian Optimization): {bayes_search.best_params_}\")\n",
    "best_dt_bayes = bayes_search.best_estimator_\n",
    "\n",
    "bayes_search_score = best_dt_bayes.score(X_test, y_test)\n",
    "print(f\"Accuracy setelah Bayesian Optimization: {bayes_search_score:.2f}\")"
   ],
   "metadata": {
    "id": "dFCTxJJq-m-l",
    "ExecuteTime": {
     "end_time": "2025-09-15T08:46:05.118505Z",
     "start_time": "2025-09-15T08:45:28.481640Z"
    }
   },
   "outputs": [
    {
     "name": "stdout",
     "output_type": "stream",
     "text": [
      "Fitting 3 folds for each of 1 candidates, totalling 3 fits\n",
      "Fitting 3 folds for each of 1 candidates, totalling 3 fits\n",
      "Fitting 3 folds for each of 1 candidates, totalling 3 fits\n",
      "Fitting 3 folds for each of 1 candidates, totalling 3 fits\n",
      "Fitting 3 folds for each of 1 candidates, totalling 3 fits\n",
      "Fitting 3 folds for each of 1 candidates, totalling 3 fits\n",
      "Fitting 3 folds for each of 1 candidates, totalling 3 fits\n",
      "Fitting 3 folds for each of 1 candidates, totalling 3 fits\n",
      "Fitting 3 folds for each of 1 candidates, totalling 3 fits\n",
      "Fitting 3 folds for each of 1 candidates, totalling 3 fits\n",
      "Fitting 3 folds for each of 1 candidates, totalling 3 fits\n",
      "Fitting 3 folds for each of 1 candidates, totalling 3 fits\n",
      "Fitting 3 folds for each of 1 candidates, totalling 3 fits\n",
      "Fitting 3 folds for each of 1 candidates, totalling 3 fits\n",
      "Fitting 3 folds for each of 1 candidates, totalling 3 fits\n",
      "Fitting 3 folds for each of 1 candidates, totalling 3 fits\n",
      "Fitting 3 folds for each of 1 candidates, totalling 3 fits\n",
      "Fitting 3 folds for each of 1 candidates, totalling 3 fits\n",
      "Fitting 3 folds for each of 1 candidates, totalling 3 fits\n",
      "Fitting 3 folds for each of 1 candidates, totalling 3 fits\n",
      "Fitting 3 folds for each of 1 candidates, totalling 3 fits\n",
      "Fitting 3 folds for each of 1 candidates, totalling 3 fits\n",
      "Fitting 3 folds for each of 1 candidates, totalling 3 fits\n",
      "Fitting 3 folds for each of 1 candidates, totalling 3 fits\n",
      "Fitting 3 folds for each of 1 candidates, totalling 3 fits\n",
      "Fitting 3 folds for each of 1 candidates, totalling 3 fits\n",
      "Fitting 3 folds for each of 1 candidates, totalling 3 fits\n",
      "Fitting 3 folds for each of 1 candidates, totalling 3 fits\n",
      "Fitting 3 folds for each of 1 candidates, totalling 3 fits\n",
      "Fitting 3 folds for each of 1 candidates, totalling 3 fits\n",
      "Fitting 3 folds for each of 1 candidates, totalling 3 fits\n",
      "Fitting 3 folds for each of 1 candidates, totalling 3 fits\n",
      "Best parameters (Bayesian Optimization): OrderedDict([('criterion', 'gini'), ('max_depth', 10), ('max_features', None), ('min_samples_leaf', 1), ('min_samples_split', 10)])\n",
      "Accuracy setelah Bayesian Optimization: 0.99\n"
     ]
    }
   ],
   "execution_count": 21
  },
  {
   "cell_type": "code",
   "source": [
    "# Menampilkan hasil evaluasi akurasi, presisi, recall, dan F1-Score pada algoritma yang sudah dituning.\n",
    "\n",
    "evaluate_model(best_dt_bayes, X_test, y_test)"
   ],
   "metadata": {
    "id": "1g6EPSSWxjcQ",
    "ExecuteTime": {
     "end_time": "2025-09-15T08:46:16.092227Z",
     "start_time": "2025-09-15T08:46:16.073503Z"
    }
   },
   "outputs": [
    {
     "name": "stdout",
     "output_type": "stream",
     "text": [
      "========= Evaluasi Model DecisionTreeClassifier(max_depth=10, min_samples_split=10) ==========\n",
      "Accuracy: 0.9881\n",
      "Precision: 0.9884\n",
      "Recall: 0.9881\n",
      "F1_Score: 0.988033\n",
      "==================================================\n",
      "\n"
     ]
    }
   ],
   "execution_count": 22
  },
  {
   "metadata": {},
   "cell_type": "markdown",
   "source": [
    "**Summary :**\n",
    "\n",
    "Dari hasil tuning dengan Bayesian, dapat dilihat jika evaluasi akurasi, presisi, recall, dan F-1 Score jadi lebih tinggi dari evaluasi model sebelum tuning."
   ]
  },
  {
   "cell_type": "code",
   "source": [
    "# Menyimpan Model hasil tuning\n",
    "import joblib\n",
    "joblib.dump(best_dt_bayes, 'tuning_classification.h5')"
   ],
   "metadata": {
    "id": "7UJNcVP--n7S",
    "ExecuteTime": {
     "end_time": "2025-09-15T08:47:38.866952Z",
     "start_time": "2025-09-15T08:47:38.844753Z"
    }
   },
   "outputs": [
    {
     "data": {
      "text/plain": [
       "['tuning_classification.h5']"
      ]
     },
     "execution_count": 23,
     "metadata": {},
     "output_type": "execute_result"
    }
   ],
   "execution_count": 23
  },
  {
   "cell_type": "markdown",
   "source": [
    "End of Code"
   ],
   "metadata": {
    "id": "0Hs4Xp4OiGEk"
   }
  }
 ]
}
